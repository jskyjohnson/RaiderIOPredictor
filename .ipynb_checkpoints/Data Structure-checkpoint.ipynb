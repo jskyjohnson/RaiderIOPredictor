{
 "cells": [
  {
   "cell_type": "code",
   "execution_count": 13,
   "metadata": {},
   "outputs": [],
   "source": [
    "import matplotlib.pyplot as plt\n",
    "import numpy as np\n",
    "import json\n",
    "from pprint import pprint\n",
    "import os\n",
    "from datetime import datetime\n",
    "from glob import iglob\n",
    "from tempfile import TemporaryFile"
   ]
  },
  {
   "cell_type": "code",
   "execution_count": 14,
   "metadata": {},
   "outputs": [],
   "source": [
    "Data = np.ndarray(shape=(14,1), dtype=float, order='F')\n",
    "#Data = np.append(Data,[1,2,3,4,5,6,7,8,9,10,11,12,13,14])"
   ]
  },
  {
   "cell_type": "code",
   "execution_count": null,
   "metadata": {},
   "outputs": [
    {
     "name": "stdout",
     "output_type": "stream",
     "text": [
      "Error with data/MythicLeaderboards/74/245/683.json\n",
      "Error with data/MythicLeaderboards/69/251/681.json\n",
      "Error with data/MythicLeaderboards/3728/251/681.json\n",
      "Error with data/MythicLeaderboards/157/353/681.json\n",
      "Error with data/MythicLeaderboards/157/249/681.json\n",
      "Error with data/MythicLeaderboards/114/244/684.json\n",
      "Error with data/MythicLeaderboards/114/245/683.json\n",
      "Error with data/MythicLeaderboards/114/249/684.json\n",
      "Error with data/MythicLeaderboards/114/249/683.json\n",
      "Error with data/MythicLeaderboards/1165/247/680.json\n",
      "Error with data/MythicLeaderboards/73/353/680.json\n"
     ]
    }
   ],
   "source": [
    "#rootdir_glob = '/home/sky/Documents/CSCI4802/RaiderIOPredictor/data/MythicLeaderboards'\n",
    "file_list = [f for f in iglob('**/*.json', recursive=True) if os.path.isfile(f)]\n",
    "\n",
    "for f in file_list:\n",
    "    try:\n",
    "        with open(f) as jsonfile:\n",
    "            #print(f)#, #end=': ')\n",
    "            data = json.load(jsonfile)\n",
    "\n",
    "    \n",
    "        for group in range(len(data['leading_groups'])):\n",
    "            \n",
    "            period = data['period']\n",
    "            duration = data['leading_groups'][group]['duration'] #1, Duration\n",
    "            completiontimestamp = data['leading_groups'][group]['completed_timestamp'] #2, Completion_timestamp\n",
    "            #realmID = data #3 Realm ID\n",
    "            player1 = data['leading_groups'][group]['members'][0]['specialization']['id'] #4 player spec 1\n",
    "            player2 = data['leading_groups'][group]['members'][1]['specialization']['id'] #5 player spec 2\n",
    "            player3 = data['leading_groups'][group]['members'][2]['specialization']['id'] #6 player spec 3\n",
    "            player4 = data['leading_groups'][group]['members'][3]['specialization']['id'] #7 player spec 4\n",
    "            player5 = data['leading_groups'][group]['members'][4]['specialization']['id'] #8 player spec 5\n",
    "            mapID = data['map']['id'] #Map ID\n",
    "            keystonelevel = data['leading_groups'][group]['keystone_level']\n",
    "            affix1 = data['keystone_affixes'][0]['keystone_affix']['id']\n",
    "            affix2 = data['keystone_affixes'][1]['keystone_affix']['id']\n",
    "            affix3 = data['keystone_affixes'][2]['keystone_affix']['id']\n",
    "            affix4 = data['keystone_affixes'][3]['keystone_affix']['id']\n",
    "            \n",
    "            Data = np.append(Data, [period, duration, completiontimestamp, player1, player2, player3, player4, player5, mapID, keystonelevel, affix1, affix2, affix3, affix4])\n",
    "    except:\n",
    "        print(\"Error with \" + f)\n",
    "\n",
    "        \n",
    "print(\"Finished Creating Data Files\")\n",
    "outfile = TemporaryFile()\n",
    "np.save(outfile, Data)\n",
    "        #print(group, end=\", \")\n",
    "   #print(\".\")\n",
    "        #print(data['leading_groups'][group]['keystone_level'])\n",
    "#     for i in range(10):\n",
    "#         X.append(data['leading_groups'][i]['duration'])            \n",
    "#         Y.append(data['leading_groups'][i]['keystone_level'])\n",
    "\n",
    "#Loop around to build with all data\n",
    "#with open('data/test.json') as f:\n",
    "    #data = json.load(f)"
   ]
  },
  {
   "cell_type": "raw",
   "metadata": {},
   "source": []
  },
  {
   "cell_type": "code",
   "execution_count": null,
   "metadata": {},
   "outputs": [],
   "source": []
  },
  {
   "cell_type": "code",
   "execution_count": null,
   "metadata": {},
   "outputs": [],
   "source": []
  },
  {
   "cell_type": "code",
   "execution_count": null,
   "metadata": {},
   "outputs": [],
   "source": []
  }
 ],
 "metadata": {
  "kernelspec": {
   "display_name": "Python 3",
   "language": "python",
   "name": "python3"
  },
  "language_info": {
   "codemirror_mode": {
    "name": "ipython",
    "version": 3
   },
   "file_extension": ".py",
   "mimetype": "text/x-python",
   "name": "python",
   "nbconvert_exporter": "python",
   "pygments_lexer": "ipython3",
   "version": "3.6.5"
  }
 },
 "nbformat": 4,
 "nbformat_minor": 2
}
