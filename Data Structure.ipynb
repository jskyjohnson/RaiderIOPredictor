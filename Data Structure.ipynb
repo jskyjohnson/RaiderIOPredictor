{
 "cells": [
  {
   "cell_type": "code",
   "execution_count": 2,
   "metadata": {},
   "outputs": [],
   "source": [
    "import matplotlib.pyplot as plt\n",
    "import numpy as np\n",
    "import json\n",
    "from pprint import pprint\n",
    "import os\n",
    "from datetime import datetime\n",
    "from glob import iglob"
   ]
  },
  {
   "cell_type": "code",
   "execution_count": 3,
   "metadata": {},
   "outputs": [],
   "source": [
    "np"
   ]
  },
  {
   "cell_type": "code",
   "execution_count": 8,
   "metadata": {},
   "outputs": [
    {
     "name": "stdout",
     "output_type": "stream",
     "text": [
      "Error with data/MythicLeaderboards/164/245/683.json\n",
      "Error with data/MythicLeaderboards/53/244/684.json\n"
     ]
    }
   ],
   "source": [
    "#rootdir_glob = '/home/sky/Documents/CSCI4802/RaiderIOPredictor/data/MythicLeaderboards'\n",
    "file_list = [f for f in iglob('**/*.json', recursive=True) if os.path.isfile(f)]\n",
    "\n",
    "for f in file_list:\n",
    "    try:\n",
    "        with open(f) as jsonfile:\n",
    "            #print(f)#, #end=': ')\n",
    "            data = json.load(jsonfile)\n",
    "\n",
    "    \n",
    "        for group in range(len(data['leading_groups'])):\n",
    "            X.append(data['leading_groups'][group]['duration'])            \n",
    "            Y.append(data['leading_groups'][group]['keystone_level'])\n",
    "    except:\n",
    "        print(\"Error with \" + f)\n",
    "        #print(group, end=\", \")\n",
    "   #print(\".\")\n",
    "        #print(data['leading_groups'][group]['keystone_level'])\n",
    "#     for i in range(10):\n",
    "#         X.append(data['leading_groups'][i]['duration'])            \n",
    "#         Y.append(data['leading_groups'][i]['keystone_level'])\n",
    "    \n",
    "\n",
    "#Loop around to build with all data\n",
    "#with open('data/test.json') as f:\n",
    "    #data = json.load(f)"
   ]
  },
  {
   "cell_type": "code",
   "execution_count": null,
   "metadata": {},
   "outputs": [],
   "source": []
  },
  {
   "cell_type": "code",
   "execution_count": null,
   "metadata": {},
   "outputs": [],
   "source": []
  },
  {
   "cell_type": "code",
   "execution_count": null,
   "metadata": {},
   "outputs": [],
   "source": []
  },
  {
   "cell_type": "code",
   "execution_count": null,
   "metadata": {},
   "outputs": [],
   "source": []
  }
 ],
 "metadata": {
  "kernelspec": {
   "display_name": "Python 3",
   "language": "python",
   "name": "python3"
  },
  "language_info": {
   "codemirror_mode": {
    "name": "ipython",
    "version": 3
   },
   "file_extension": ".py",
   "mimetype": "text/x-python",
   "name": "python",
   "nbconvert_exporter": "python",
   "pygments_lexer": "ipython3",
   "version": "3.6.5"
  }
 },
 "nbformat": 4,
 "nbformat_minor": 2
}
