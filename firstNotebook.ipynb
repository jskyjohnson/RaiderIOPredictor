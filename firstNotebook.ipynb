{
 "cells": [
  {
   "cell_type": "code",
   "execution_count": 25,
   "metadata": {},
   "outputs": [],
   "source": [
    "import json\n",
    "from pprint import pprint\n",
    "\n",
    "with open('data/season-bfa-2/page0.json') as f:\n",
    "    data = json.load(f)"
   ]
  },
  {
   "cell_type": "code",
   "execution_count": 26,
   "metadata": {},
   "outputs": [],
   "source": [
    "%matplotlib inline\n",
    "import matplotlib.pyplot as plt\n",
    "plt.style.use('seaborn-whitegrid')\n",
    "import numpy as np"
   ]
  },
  {
   "cell_type": "code",
   "execution_count": 28,
   "metadata": {},
   "outputs": [],
   "source": [
    "x = [];#rank\n",
    "y = [];\n",
    "\n",
    "for i in range(20):\n",
    "    x.append(data[\"rankings\"][i][\"rank\"])\n",
    "    y.append(data[\"rankings\"][i][\"score\"])\n",
    "    \n",
    "for i in range(20):\n",
    "    x.append(data2[\"rankings\"][i][\"rank\"])\n",
    "    y.append(data2[\"rankings\"][i][\"score\"])\n",
    "    \n",
    "for i in range(20):\n",
    "    x.append(data3[\"rankings\"][i][\"rank\"])\n",
    "    y.append(data3[\"rankings\"][i][\"score\"])\n",
    "    \n",
    "for i in range(20):\n",
    "    x.append(data4[\"rankings\"][i][\"rank\"])\n",
    "    y.append(data4[\"rankings\"][i][\"score\"])\n",
    "    \n",
    "for i in range(20):\n",
    "    x.append(data5[\"rankings\"][i][\"rank\"])\n",
    "    y.append(data5[\"rankings\"][i][\"score\"])\n",
    "\n",
    "\n",
    "#plt.plot(x, y, 'o', color='black');"
   ]
  },
  {
   "cell_type": "code",
   "execution_count": 29,
   "metadata": {},
   "outputs": [
    {
     "data": {
      "image/png": "[encoded data removed]",
      "text/plain": [
       "<Figure size 432x288 with 1 Axes>"
      ]
     },
     "metadata": {},
     "output_type": "display_data"
    }
   ],
   "source": [
    "plt.plot(x, y, 'o', color='black');"
   ]
  },
  {
   "cell_type": "code",
   "execution_count": null,
   "metadata": {},
   "outputs": [],
   "source": []
  }
 ],
 "metadata": {
  "kernelspec": {
   "display_name": "Python 3",
   "language": "python",
   "name": "python3"
  },
  "language_info": {
   "codemirror_mode": {
    "name": "ipython",
    "version": 3
   },
   "file_extension": ".py",
   "mimetype": "text/x-python",
   "name": "python",
   "nbconvert_exporter": "python",
   "pygments_lexer": "ipython3",
   "version": "3.6.5"
  }
 },
 "nbformat": 4,
 "nbformat_minor": 2
}
