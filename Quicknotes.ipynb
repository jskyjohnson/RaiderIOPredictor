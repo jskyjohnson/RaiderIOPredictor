{
 "cells": [
  {
   "cell_type": "markdown",
   "metadata": {},
   "source": [
    "Random notebook to keep track of some things\n",
    "\n",
    "Current Period (As of 3/19/19) : 690, earliest was 641? not sure if that includes same season...\n",
    "\n",
    "There are 14 dungeons, IDS: \n",
    "\n",
    "There are X servers, see the list:\n",
    "\n",
    "There are 12 affixes?"
   ]
  },
  {
   "cell_type": "markdown",
   "metadata": {},
   "source": [
    "getMythicKeystonePeriodIndex <-- returns index of periods...."
   ]
  },
  {
   "cell_type": "raw",
   "metadata": {},
   "source": [
    "# TODO List over spring break\n",
    "\n",
    "Make a data structure to store all the information from the blizzard API\n",
    "Data avaible from the blizzard API\n",
    "\n",
    "Use JSONbeautifer to see : https://codebeautify.org/jsonviewer\n",
    "\n",
    "Im going to make an object with the following properties that will represent specific runs\n",
    "\n",
    "*<- features that matter\n",
    "\n",
    "\n",
    "ID: int,  (Internal ID number for easier tracking)\n",
    "Period: int, week that it was ran on\n",
    "*duration: int, time it took to complete dungeon\n",
    "    *completion_timestamp: int, time of completion\n",
    "*Dungeon Realm id: int, realm that the dungeon was hosted on\n",
    "\n",
    "Player1 ID: int, Id of player 1\n",
    "Player1 Name: String, name of player 1\n",
    "Player1 Realm id: Int, realm of player 1\n",
    "*Player1 Spec id: int, specialization ID of player1\n",
    "\n",
    "Player2 ID: int, Id of player 2\n",
    "Player2 Name: String, name of player 2\n",
    "Player2 Realm id: Int, realm of player 2\n",
    "*Player2 Spec id: int, specialization ID of player2\n",
    "\n",
    "Player3 ID: int, Id of player 3\n",
    "Player3 Name: String, name of player 3\n",
    "Player3 Realm id: Int, realm of player 3\n",
    "*Player3 Spec id: int, specialization ID of player3\n",
    "\n",
    "Player4 ID: int, Id of player 4\n",
    "Player4 Name: String, name of player 4\n",
    "Player4 Realm id: Int, realm of player 4\n",
    "*Player4 Spec id: int, specialization ID of player4\n",
    "\n",
    "Player5 ID: int, Id of player 5\n",
    "Player5 Name: String, name of player 5\n",
    "Player5 Realm id: Int, realm of player 5\n",
    "*Player5 Spec id: int, specialization ID of player5\n",
    "\n",
    "Keystone name: String,  Name of dungeon\n",
    "*Keystone ID: int, ID of the dungeon\n",
    "*Keystone Level: int, Level of Keystone\n",
    "\n",
    "*Keystone Affix1 id: int, id of affix 1\n",
    "Keystone Affix1 name: String, name of affix 1\n",
    "\n",
    "*Keystone Affix2 id: int, id of affix 2\n",
    "Keystone Affix2 name: String, name of affix 2\n",
    "\n",
    "*Keystone Affix3 id: int, id of affix 3\n",
    "Keystone Affix3 name: String, name of affix 3\n",
    "\n",
    "*Keystone Affix4 id: int, id of affix 4\n",
    "Keystone Affix4 name: String, name of affix 4\n",
    "\n"
   ]
  },
  {
   "cell_type": "raw",
   "metadata": {},
   "source": [
    "List of questions to answer over spring break:\n",
    "\n",
    "Which affix is the hardest? \n",
    "Which spec is the best???\n",
    "Dungeon time shinanigans\n",
    "Which realm is the best?\n",
    "\n",
    "Time of Day\n"
   ]
  }
 ],
 "metadata": {
  "kernelspec": {
   "display_name": "Python 3",
   "language": "python",
   "name": "python3"
  },
  "language_info": {
   "codemirror_mode": {
    "name": "ipython",
    "version": 3
   },
   "file_extension": ".py",
   "mimetype": "text/x-python",
   "name": "python",
   "nbconvert_exporter": "python",
   "pygments_lexer": "ipython3",
   "version": "3.6.5"
  }
 },
 "nbformat": 4,
 "nbformat_minor": 2
}
